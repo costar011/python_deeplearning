{
 "cells": [
  {
   "cell_type": "markdown",
   "metadata": {},
   "source": [
    "# 1. 변수와 기본 연산자\n",
    "\n",
    "### 변수의 의미\n",
    " - 변수는 프로그램이 실행에 필요한 여러가지 형태의 자료 (수, 캐릭터, 문장)가 담길 수 있는 그릇 (저장소)로 이해하면 된다\n",
    " - Python에서는 변수에 어떤 자료를 넣기 위해서는 아래와 같이 표현하기로 약속되어있다\n",
    " - 수학에서의 수식같이 보이는 이 프로그램 문장은 파이썬에서는 `변수a` 에 `숫자 5` 를 넣으라는 의미다"
   ]
  },
  {
   "cell_type": "code",
   "execution_count": 20,
   "metadata": {},
   "outputs": [],
   "source": [
    "a = 5"
   ]
  },
  {
   "cell_type": "markdown",
   "metadata": {},
   "source": [
    "# 변수의 생성\n",
    "\n",
    "#### 변수는 변수명(변수 이름)을 만들어서 생성하는데 변수명을 만드는 규칙은 비교적 간단하다\n",
    "\n",
    "- 영문 문자와 숫자를 사용할 수 있다\n",
    "- `대소문자`를 구분한다\n",
    "- 숫자부터 시작할 수 `없다`\n",
    "- 특수문자를 사용할 수 `없다`\n",
    "- 변수명에는 띄어쓰기를 할 수 `없다`\n",
    "- python에는 사용하는 키워드들은 사용할 수 `없다` (if, for, while, or, and, True, False)"
   ]
  },
  {
   "cell_type": "code",
   "execution_count": 21,
   "metadata": {},
   "outputs": [],
   "source": [
    "# 변수를 만들어서 데이터를 입력하는 예는 다음과 같다\n",
    "\n",
    "a = 5           # 정수(int)\n",
    "bb = 5.011      # 실수(float)\n",
    "cc = True       # 논리(boolean)\n",
    "aD = [1,2,3]    # 배열(list)\n",
    "e123 = {\"item\": \"책상\"} # 딕셔너리(dict)\n",
    "F1g = \"asdfg\"   # 문자열(str)\n",
    "\n",
    "# 변수를 한번에 여러 개를 만들 수 있다\n",
    "\n",
    "aa, bb, cc = 10, 20, 30 # 3개의 변수를 생성한 후에 각 변수에 차례대로 3개 값을 입력한다\n",
    "aa = bb = cc = 5        # 3개의 변수를 생성한 후에 같은 값(5)을 입력한다"
   ]
  },
  {
   "cell_type": "markdown",
   "metadata": {},
   "source": [
    "# 기본연산자\n",
    "\n",
    "#### 프로그램을 코딩할 때 수식과 논리를 연산할 때 사용하는 연산기호를 `연산자` 라고 한다\n",
    "#### 파이썬의 수식과 논리 연산에 사용하는 연산자는 다음과 같다\n",
    "\n",
    "<style>\n",
    "    table {\n",
    "        background-color: #000;\n",
    "        color: #ffff;\n",
    "        font-size:17px;\n",
    "        text-align: center;\n",
    "    }\n",
    "\n",
    "    table thead {\n",
    "        font-weight: bold;\n",
    "    }\n",
    "</style>\n",
    "<table>\n",
    "    <thead>\n",
    "        <td colspan=2> 파이썬 수식 연산자 </td>\n",
    "    </thead>\n",
    "    <tbody>\n",
    "        <tr>\n",
    "            <td>+</td>\n",
    "            <td>덧셈</td>\n",
    "        </tr>\n",
    "        <tr>\n",
    "            <td>-</td>\n",
    "            <td>뺄셈</td>\n",
    "        </tr>\n",
    "        <tr>\n",
    "            <td>*</td>\n",
    "            <td>곱셈</td>\n",
    "        </tr>\n",
    "        <tr>\n",
    "            <td>/</td>\n",
    "            <td>나눗셈</td>\n",
    "        </tr>\n",
    "        <tr>\n",
    "            <td>//</td>\n",
    "            <td>몫</td>\n",
    "        </tr>\n",
    "        <tr>\n",
    "            <td>%</td>\n",
    "            <td>나머지</td>\n",
    "        </tr>\n",
    "    </tbody>\n",
    "</table>\n",
    "\n",
    "<br />\n",
    "<br />\n",
    "<br />\n",
    "\n",
    "<table>\n",
    "    <thead>\n",
    "        <td colspan=2> 파이썬 논리 연산자 </td>\n",
    "    </thead>\n",
    "    <tbody>\n",
    "        <tr>\n",
    "            <td>'and' 또는 '&'</td>\n",
    "            <td>논리적 AND 연산</td>\n",
    "        </tr>\n",
    "        <tr>\n",
    "            <td>'or' 또는 '|'</td>\n",
    "            <td>논리적 OR 연산</td>\n",
    "        </tr>\n",
    "        <tr>\n",
    "            <td>'not'</td>\n",
    "            <td>논리적 반전 연산</td>\n",
    "        </tr>\n",
    "    </tbody>\n",
    "</table>\n",
    "\n",
    "\n",
    "<br />\n",
    "<br />\n",
    "\n",
    "- 파이썬에서 문자를 출력하는 `print()` 함수를 사용하여 기본 연산자를 사용한 연산 결과를 확인해보자\n",
    "\n",
    "<br />\n",
    "\n",
    "```\n",
    "<참고> 기초 출력문 : print()\n",
    "\n",
    "print()문은 매우 다양한 출력 방법을 가지고 있으나 우선 여기에서는 간단히 문자열과 숫자를 표현하는 방법만을 설명한다\n",
    "\n",
    "    print( (변수 또는 문자열 1), (변수 또는 문자열 2), , , , (변수 또는 문자열 n))\n",
    "```\n",
    "\n",
    "- 아래 그림과 같이 파이썬은 쉘 프롬프트 `>>>` 에서 한 줄씩 프로그램을 입력할 수 있다\n",
    "- 연산자를 사용하여 수식과 명령어를 입력하면 바로 그 결과를 확인 할 수 있다\n",
    "- 또 단순한 연산결과는 `print()` 함수 없이도 확인 할 수 있다"
   ]
  },
  {
   "cell_type": "code",
   "execution_count": 22,
   "metadata": {},
   "outputs": [
    {
     "name": "stdout",
     "output_type": "stream",
     "text": [
      "a+b= 11\n",
      "a-b= 5\n",
      "24\n",
      "512\n",
      "2.6666666666666665\n",
      "2\n",
      "2\n"
     ]
    },
    {
     "data": {
      "text/plain": [
       "5"
      ]
     },
     "execution_count": 22,
     "metadata": {},
     "output_type": "execute_result"
    }
   ],
   "source": [
    "a = 8\n",
    "b = 3\n",
    "\n",
    "print(\"a+b=\", a+b) # 11\n",
    "\n",
    "print(\"a-b=\", a-b) # 5\n",
    "\n",
    "print(a * b) # 24\n",
    "\n",
    "print(a ** b) # 512\n",
    "\n",
    "print(a / b) # 2.666666666\n",
    "\n",
    "print(a // b) # 2\n",
    "\n",
    "print(a % b) # 2\n",
    "\n",
    "a + b # 11\n",
    "\n",
    "a -b # 5"
   ]
  },
  {
   "cell_type": "markdown",
   "metadata": {},
   "source": [
    "# 2. 자료형\n",
    "\n",
    "- `자료형`은 변수에 저장되는 자료의 형태를 의미한다\n",
    "- 변수를 만들고나서 이 변수에 담는 자료의 형태가 변수의 성질(자료형)을 결정하게 된다\n",
    "- 파이썬에서는 변수의 자료형을 알 수 있는 `type()` 함수가 있다\n",
    "- 이 함수를 통하여 변수에 여러가지 값을 넣고 자료형을 확인해보면 다음과 같다"
   ]
  },
  {
   "cell_type": "code",
   "execution_count": 23,
   "metadata": {},
   "outputs": [
    {
     "data": {
      "text/plain": [
       "str"
      ]
     },
     "execution_count": 23,
     "metadata": {},
     "output_type": "execute_result"
    }
   ],
   "source": [
    "a = 5\n",
    "type(a) # int\n",
    "\n",
    "bb = 5.011\n",
    "type(bb) # float\n",
    "\n",
    "Cc = True\n",
    "type(Cc) # bool\n",
    "\n",
    "aD = [1,2,3]\n",
    "type(aD) # list\n",
    "\n",
    "e123 = {\"item\" : \"책상\"}\n",
    "type(e123) # dict\n",
    "\n",
    "F1g = \"asdfg\"\n",
    "type(F1g) # str"
   ]
  },
  {
   "cell_type": "markdown",
   "metadata": {},
   "source": [
    "# 정수형 (int)\n",
    "\n",
    "- `정수형(int)`은 자료를 정수형태로 사용하기 위한 `자료형` 이다\n",
    "- 형태의 명칭은 `int`라고 하며 자료를 정수형으로 만드는 함수는 `int()` 이다\n",
    "\n",
    "# 실수형 (float)\n",
    "\n",
    "- `실수형(float)`은 자료를 실수형태(소수점으로 나타내는 형태)로 사용하기 위한 `자료형` 이다\n",
    "- 형태의 명칭은 `float` 라고 하며 자료를 실수형으로 만드는 함수는 `float()` 이다"
   ]
  },
  {
   "cell_type": "code",
   "execution_count": 24,
   "metadata": {},
   "outputs": [
    {
     "data": {
      "text/plain": [
       "float"
      ]
     },
     "execution_count": 24,
     "metadata": {},
     "output_type": "execute_result"
    }
   ],
   "source": [
    "a = 100 # 정수입력(정수형 변수 a 생성)\n",
    "b = 100.99 # 실수입력(실수형 변수 b 생성)\n",
    "\n",
    "type(a) # 자료형 확인\n",
    "type(b) # 자료형 확인\n",
    "type(int(b)) # 자료형 변환\n",
    "type(float(a)) # 자료형 변환"
   ]
  },
  {
   "cell_type": "markdown",
   "metadata": {},
   "source": [
    "# 논리형 (bool)\n",
    "\n",
    "- `논리형(bool)` 은 자료를 논리형태로 사용하기 위한 `자료형` 이다\n",
    "- 형태 명칭은 `bool` 이라고 하며 자료는 `False`와 `True` 두 가지만 갖는다\n",
    "- 자료를 논리형으로 만드는 함수는 `bool()` 이다\n",
    "- 이 함수는 0만을 Flase로 인정하고 나머지 수는 True로 변환한다"
   ]
  },
  {
   "cell_type": "code",
   "execution_count": 25,
   "metadata": {},
   "outputs": [
    {
     "data": {
      "text/plain": [
       "False"
      ]
     },
     "execution_count": 25,
     "metadata": {},
     "output_type": "execute_result"
    }
   ],
   "source": [
    "bool(0) # false\n",
    "bool(1) # true\n",
    "bool(-1) # true\n",
    "bool(0.001) # true\n",
    "bool(int(0.5)) # 숫자 0만 false 논리"
   ]
  },
  {
   "cell_type": "markdown",
   "metadata": {},
   "source": [
    "# None형 (NoneType)\n",
    "\n",
    "- `None형`은 c/c++에서의 `Null`과 같은 의미의 자료이다\n",
    "- 자료의 값이 없음을 표현하기 위한 `자료형` 이다\n",
    "- `Type()`함수로 `None`의 형을 확인해보면 `NoneType`으로 결과를 보여준다"
   ]
  },
  {
   "cell_type": "code",
   "execution_count": 26,
   "metadata": {},
   "outputs": [
    {
     "data": {
      "text/plain": [
       "NoneType"
      ]
     },
     "execution_count": 26,
     "metadata": {},
     "output_type": "execute_result"
    }
   ],
   "source": [
    "type(None)"
   ]
  },
  {
   "cell_type": "markdown",
   "metadata": {},
   "source": [
    "# 문자열형 (str)\n",
    "\n",
    "- `문자열형(str)`은 글자 형태의 자료를 의미한다\n",
    "- 형태의 명칭은 `str`이라고 하며 문자와 문자열의 구분없이 같은 형태의 자료로 사용된다\n",
    "- `작은따옴표(')` 또는 `큰따옴표(\")` 를 사용하여 문자열을 정의한다\n",
    "- 파이썬에서는 따옴표를 문자열 안에 표현하려면 표현하고자 하는 따옴표와 다른 따옴표 쌍 안에 사용하면 된다\n",
    "- 파이썬에서 문자를 출력하는 `print()` 함수를 사용하여 확인해보면 다음과 같다"
   ]
  },
  {
   "cell_type": "code",
   "execution_count": 27,
   "metadata": {},
   "outputs": [
    {
     "name": "stdout",
     "output_type": "stream",
     "text": [
      "aa'a'aa\n",
      "bb\"bb\"bb\n",
      "abc\n",
      "      defg\n",
      "      hijk\n"
     ]
    }
   ],
   "source": [
    "print(\"aa'a'aa\") # aa'a'aa\n",
    "# print(\"bb\"b\"bb\") # 같은 따옴표를 사용하여 표현하면 문장 에러가 발생함\n",
    "print('bb\"bb\"bb') # bb\"bb\"bb\n",
    "\n",
    "# 또한 따옴표 3개를 연속해서 사용하면 여러 줄의 문자열을 입력할 수 도 있다\n",
    "\n",
    "print('''abc\n",
    "      defg\n",
    "      hijk''')\n",
    "\n",
    "# 따옴표 연속3개 후 문장을 입력하고 엔터키를 치면 다음 줄 문자열을 계속 입력할 수 있고\n",
    "# 따옴표 연속3개로 문자열 입력을 마치고 함수를 마무리 하면\n",
    "# 입력한 문장이 출력된다"
   ]
  },
  {
   "cell_type": "markdown",
   "metadata": {},
   "source": [
    "```\n",
    "참고로 파이썬에서는 C/C++ 에서와 같이 `Escape sequence` 를 사용하여 특수한 문자를 표현할 수도 있다\n",
    "이때에는 `\\`문자를 사용한다\n",
    "파이썬은 `\\`문자 이후의 한 문자만 의미를 갖는다\n",
    "```\n",
    "\n",
    "<style>\n",
    "    table {\n",
    "        background-color: #9999;\n",
    "        color: #ffff;\n",
    "        font-size:17px;\n",
    "        text-align: center;\n",
    "    }\n",
    "\n",
    "    table thead {\n",
    "        font-weight: bold;\n",
    "    }\n",
    "</style>\n",
    "\n",
    "<table>\n",
    "    <thead>\n",
    "        <td colspan=2> 파이썬 Escape sequence</td>\n",
    "    </thead>\n",
    "    <tbody>\n",
    "        <tr>\n",
    "            <td>예약 문자</td>\n",
    "            <td>내용(의미)</td>\n",
    "        </tr>\n",
    "        <tr>\n",
    "            <td>\\n</td>\n",
    "            <td>줄 바꿈</td>\n",
    "        </tr>\n",
    "         <tr>\n",
    "            <td>\\t</td>\n",
    "            <td>탭</td>\n",
    "        </tr>\n",
    "         <tr>\n",
    "            <td>\\r</td>\n",
    "            <td>캐리지 리턴</td>\n",
    "        </tr>\n",
    "         <tr>\n",
    "            <td>\\o</td>\n",
    "            <td>널(NULL)</td>\n",
    "        </tr>\n",
    "         <tr>\n",
    "            <td>\\\\</td>\n",
    "            <td>\\</td>\n",
    "        </tr>\n",
    "         <tr>\n",
    "            <td>\\'</td>\n",
    "            <td>단일 인용부호</td>\n",
    "        </tr>\n",
    "         <tr>\n",
    "            <td>\\\"</td>\n",
    "            <td>이중 인용부호</td>\n",
    "        </tr>\n",
    "    </tbody>\n",
    "</table>\n",
    "\n",
    "<br/>\n",
    "<br/>\n",
    "<br/>\n",
    "\n",
    "아래 문장은 문자열형 자료를 변수에 넣어 Escape sequence와 함께 print()에서 사용하는 예를 보여주고있다"
   ]
  },
  {
   "cell_type": "code",
   "execution_count": 28,
   "metadata": {},
   "outputs": [
    {
     "name": "stdout",
     "output_type": "stream",
     "text": [
      "Korea 's capital is \t'Seoul'!!!\n"
     ]
    }
   ],
   "source": [
    "country = 'Korea'\n",
    "print(country, '\\'s capital is \\t\\'Seoul\\'!!!')"
   ]
  },
  {
   "cell_type": "markdown",
   "metadata": {},
   "source": [
    "# 튜플형(truple)\n",
    "\n",
    "- `튜플형(truple)`은 배열형태의 자료를 의미한다\n",
    "- 튜플을 생성할 때는 소괄호를 `()`를 사용하여 생성을 할 수 있으며 소괄호를 생략하여 생성하는 것도 가능하다\n",
    "- (튜플과 유사한 '리스트형'은 대괄호 `[]` 를 사용) Item은 콤마 `,` 로 구분힌다\n",
    "- 자료의 인출방법은 인덱스를 사용한다"
   ]
  },
  {
   "cell_type": "code",
   "execution_count": 29,
   "metadata": {},
   "outputs": [
    {
     "name": "stdout",
     "output_type": "stream",
     "text": [
      "20\n",
      "(20, 30)\n",
      "10\n",
      "20\n",
      "30\n",
      "40\n",
      "10 20 30 40\n"
     ]
    }
   ],
   "source": [
    "t1 = 12345, 111, 'hello!' # 소괄호 없이 \",\"로 구분하여 생성\n",
    "type(t1)\n",
    "\n",
    "t2 = (12345, 111, \"Korea\") # 소괄호 없이 \",\"로 구분하여 생성\n",
    "type(t2)\n",
    "\n",
    "t1 = (1) # 콤마가 없는 경우 type을 int형 자료로 인식함\n",
    "type(t1)\n",
    "\n",
    "t1 = (1,) # 콤마를 포함하는 경우 튜플로 인식함\n",
    "type(t1)\n",
    "\n",
    "t2 = 1, # 콤마를 포함하는 경우 튜플로 인식함\n",
    "type(t2)\n",
    "\n",
    "# 튜플 변수에서 자료를 인출하는 방법은 여러가지가 있는데 몇 가지 예를 들면 다음과 같다\n",
    "\n",
    "# 인덱스를 사용하여 인출하기:\n",
    "my_tuple = (10,20,30,40)\n",
    "print(my_tuple[1]) # 출력: 20\n",
    "\n",
    "# 슬라이싱을 사용하여 인출하기:\n",
    "my_tuple = (10,20,30,40)\n",
    "print(my_tuple[1:3]) # 출력 : 20,30\n",
    "\n",
    "# 반복문을 사용하여 인출하기:\n",
    "my_tuple = (10,20,30,40)\n",
    "for item in my_tuple:\n",
    "    print(item)\n",
    "\n",
    "# 언패킹을 사용하여 인출하기:\n",
    "my_tuple = (10,20,30,40)\n",
    "a,b,c,d = my_tuple\n",
    "print(a,b,c,d) # 출력 10 20 30 40"
   ]
  },
  {
   "cell_type": "markdown",
   "metadata": {},
   "source": [
    "# 리스트형 (list)\n",
    "\n",
    "- `리스트형(list)`은 `튜플형(tuple) 과 마찬가지로` 배열형태의 자료를 의미\n",
    "```\n",
    "대괄호('[]')안에 콤마 ','로 구분하여 여러개의 값을 저장할 수 있는 자료구조이다\n",
    "```\n",
    "\n",
    "- `튜플형(tuple)`과의 차이점은 리스트는 선언된 이후에도 Item들을 추가/삭제 등이 가능한 (mutable) 반면에 튜플은 선언한 뒤에 Item을 변경할 수 없다는 `(immutable)` 것이다\n"
   ]
  },
  {
   "cell_type": "code",
   "execution_count": 30,
   "metadata": {},
   "outputs": [
    {
     "name": "stdout",
     "output_type": "stream",
     "text": [
      "123 abcd\n",
      "[111, 0, 'abcd']\n",
      "0.12 abcd\n"
     ]
    }
   ],
   "source": [
    "data = [123, 111, 0, 'abcd', 0.12]\n",
    "type(data) # list\n",
    "\n",
    "# 리스트형 변수에서 자료 인출하여 사용할 때는 대괄호([]) 안에 자료순서 (인덱스)를 지정하여 사용한다\n",
    "# 인덱스는 한 개 또는 두개를 사용하는데 두개의 인덱스는 범위를 지정하여 리스트 일부를 얻을 때 사용한다\n",
    "# 또 인덱스가 음수 인경우는 리스트의 끝에서부터 자료의 순서를 계산한다\n",
    "# 인덱스 '-1'은 마지막 자료를 의미한다\n",
    "\n",
    "print(data[0], data[3]) # 123 abcd\n",
    "type(data[3]) # str\n",
    "type(data[2]) # int\n",
    "\n",
    "print(data[1:4]) # [111, 0, 'abcd] / 두개의 리스트 인덱스를 사용\n",
    "\n",
    "print(data[-1], data[-2]) # 0.12 abcd / 음수 인덱스는 끝에서 부터 자료의 순서를 계산"
   ]
  },
  {
   "cell_type": "code",
   "execution_count": 31,
   "metadata": {},
   "outputs": [
    {
     "name": "stdout",
     "output_type": "stream",
     "text": [
      "20\n",
      "[20, 30]\n",
      "10\n",
      "20\n",
      "30\n",
      "40\n",
      "[10, 25, 30, 40]\n",
      "[10, 20, 30, 40, 50]\n",
      "[10, 15, 20, 30, 40]\n",
      "[10, 20, 30, 40, 50, 60]\n"
     ]
    }
   ],
   "source": [
    "# 리스트 변수에서 자료를 인출하거나 기입하는 방법은 여러가지 있다 몇 가지 예를 들면 다음과 같다\n",
    "\n",
    "#### 자료 인출하기 \n",
    "# 인덱스를 사용하여 인출하기:\n",
    "my_list = [10,20,30,40]\n",
    "print(my_list[1]) # 출력 20\n",
    "\n",
    "# 슬라이싱을 사용하여 인출하기:\n",
    "my_list = [10,20,30,40]\n",
    "print(my_list[1:3]) # 출력 [20,30]\n",
    "\n",
    "# 반복문을 사용하여 인출하기:\n",
    "my_list = [10,20,30,40]\n",
    "for item in my_list:\n",
    "    print(item)\n",
    "\n",
    "#### 자료 기입하기\n",
    "# 인덱스를 사용하여 기입하기:\n",
    "my_list = [10,20,30,40]\n",
    "my_list[1] = 25\n",
    "print(my_list) # 출력 [10,25,30,40]\n",
    "\n",
    "# append() 메서드를 사용하여 기입하기:\n",
    "my_list = [10,20,30,40]\n",
    "my_list.append(50)\n",
    "print(my_list) # 출력 [10,20,30,40,50]\n",
    "\n",
    "# insert() 메서드를 사용하여 기입하기:\n",
    "my_list = [10,20,30,40]\n",
    "my_list.insert(1,15)\n",
    "print(my_list) # 출력 [10,15,20,30,40]\n",
    "\n",
    "# extend() 메서드를 사용하여 기입하기:\n",
    "my_list = [10,20,30,40]\n",
    "my_list.extend([50,60])\n",
    "print(my_list) # 출력 [10,20,30,40,50,60]"
   ]
  },
  {
   "cell_type": "markdown",
   "metadata": {},
   "source": [
    "# 딕트형 (dict)\n",
    "\n",
    "- `딕트형(dict)`은 `키(key)` 값과 `벨류(value)`으로 구성된 자료형이다\n",
    "- key값에 여러 종류의 벨류를 연결시켜 자료를 만들고 key값으로 자료를 불러서 사용할 때 유용하다\n",
    "- `dict형` 변수는 중괄호를 \"{}\" 사용하여 생성을 할 수 있으며 괄호안에 콜론(':')을 사용하여 key값과 value 를 구분하여 입력한다\n",
    "- 또한 dict()의 함수 형태로 생성하는 것도 가능하다\n",
    "- 자료를 인출할 때는 변수명에 대괄호 \"[]\"를 사용하여 key값을 입력하면 value를 얻을 수 있다 그 외 dict값을 읽고 쓰는 많은 함수들이 있다"
   ]
  },
  {
   "cell_type": "code",
   "execution_count": 32,
   "metadata": {},
   "outputs": [
    {
     "name": "stdout",
     "output_type": "stream",
     "text": [
      "소파\n",
      "Alice\n",
      "yerim\n",
      "정예림\n",
      "가구 : 책상\n",
      "음식 : 김치\n",
      "가전 : 냉장고\n",
      "이름 : 코딩\n"
     ]
    }
   ],
   "source": [
    "things = {'가구':'소파', '음식':'김치', '가전':'냉장고'} # 중괄호 안에 : 로 구분하여 생성\n",
    "type(things) # dict\n",
    "\n",
    "things = dict({'가구':'소파', '음식':'김치', '가전':'냉장고'}) # dict()함수로 생성\n",
    "type(things)\n",
    "\n",
    "things_2 = {'가구':'의자', '음식':'두부', '가전':'에어컨'}\n",
    "print(things['가구']) # 변수명 + 대괄호에 key값 입력하여 value 인출\n",
    "\n",
    "# 딕셔너리 데이터를 읽고 쓰고 수정하는 방법은 여러가지가 있다 몇 가지 예를 들면 다음과 같다\n",
    "\n",
    "# 데이터 읽기\n",
    "# 키를 사용하여 읽기:\n",
    "my_dict = {'name': 'Alice', 'age':25, 'city':'Seoul'}\n",
    "print(my_dict['name']) # 출력 Alice\n",
    "\n",
    "# 추가\n",
    "things['이름'] = \"yerim\"\n",
    "print(things[\"이름\"])\n",
    "\n",
    "# 수정\n",
    "things['이름'] = \"정예림\"\n",
    "print(things[\"이름\"])\n",
    "\n",
    "# 여러 값 수정\n",
    "things.update({\"가구\":\"책상\", \"이름\":\"코딩\"})\n",
    "\n",
    "for i,j in  things.items():\n",
    "    print(f\"{i} : {j}\")"
   ]
  },
  {
   "cell_type": "code",
   "execution_count": 3,
   "metadata": {},
   "outputs": [
    {
     "name": "stdout",
     "output_type": "stream",
     "text": [
      "jung ye rim a o\n"
     ]
    }
   ],
   "source": [
    "inputtext = input(\"Input = \")\n",
    "print(inputtext)"
   ]
  },
  {
   "cell_type": "code",
   "execution_count": 12,
   "metadata": {},
   "outputs": [
    {
     "name": "stdout",
     "output_type": "stream",
     "text": [
      "Good\n"
     ]
    }
   ],
   "source": [
    "# 평가프로그램 작성\n",
    "\n",
    "age = int(input(\"your age = \"))\n",
    "score = int(input(\"your age = \"))\n",
    "\n",
    "if age >= 60:\n",
    "    score += 10\n",
    "    if score >= 100:\n",
    "        print(\"Perfact!!!\")\n",
    "    elif score <= 100 and score >= 70:\n",
    "        print(\"Good\")\n",
    "    elif score <= 50:\n",
    "        print(\"Not Good\")\n",
    "    else:\n",
    "        print(\"Not Bad\")\n",
    "else:\n",
    "    if score >= 100:\n",
    "        print(\"Perfact!!!\")\n",
    "    elif score <= 100 and score >= 70:\n",
    "        print(\"Good\")\n",
    "    elif score <= 50:\n",
    "        print(\"Not Good\")\n",
    "    else:\n",
    "        print(\"Not Bad\")"
   ]
  },
  {
   "cell_type": "code",
   "execution_count": 13,
   "metadata": {},
   "outputs": [
    {
     "name": "stdout",
     "output_type": "stream",
     "text": [
      "float number\n"
     ]
    }
   ],
   "source": [
    "# 숫자 분류 프로그램\n",
    "\n",
    "number = float(input(\"Input Number >> \"))\n",
    "\n",
    "if number == 0: # 0 정수\n",
    "    print(\"int\")\n",
    "else: # 0 이외\n",
    "    if number % 1 == 0: # 정수\n",
    "        if number < 0 : # 음의 정수\n",
    "            print(\"Int number\")\n",
    "        else:\n",
    "            print(\"int number\", end=\" \")\n",
    "            print(\"natural number\", end=\" \")\n",
    "\n",
    "            if number % 2 == 0:   # 짝수\n",
    "                 print(\"even number\")\n",
    "            else: # 홀수\n",
    "                print(\"odd number\")\n",
    "    else: # 실수\n",
    "        print(\"float number\")           \n"
   ]
  }
 ],
 "metadata": {
  "kernelspec": {
   "display_name": "Python 3",
   "language": "python",
   "name": "python3"
  },
  "language_info": {
   "codemirror_mode": {
    "name": "ipython",
    "version": 3
   },
   "file_extension": ".py",
   "mimetype": "text/x-python",
   "name": "python",
   "nbconvert_exporter": "python",
   "pygments_lexer": "ipython3",
   "version": "3.11.5"
  }
 },
 "nbformat": 4,
 "nbformat_minor": 2
}
